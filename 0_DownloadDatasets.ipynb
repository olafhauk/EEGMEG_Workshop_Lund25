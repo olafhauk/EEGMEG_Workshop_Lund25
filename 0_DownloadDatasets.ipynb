{
 "cells": [
  {
   "cell_type": "markdown",
   "id": "4f309e20-e15c-40f5-892c-7bd6acfb0af0",
   "metadata": {},
   "source": [
    "# Download datasets"
   ]
  },
  {
   "cell_type": "markdown",
   "id": "079c599e-4e67-403b-98c6-9b502c443e02",
   "metadata": {},
   "source": [
    "We will need the MNE 'sample' dataset and Freesurfer's average brain 'fsaverage' for most of these tutorials. \n",
    "\n",
    "See here for [more datasets](https://mne.tools/stable/documentation/datasets.html](."
   ]
  },
  {
   "cell_type": "code",
   "execution_count": 1,
   "id": "561ab5d0-e5e2-46bd-8704-5f6ffaa3d286",
   "metadata": {},
   "outputs": [
    {
     "name": "stdout",
     "output_type": "stream",
     "text": [
      "0 files missing from root.txt in C:\\Users\\olaf\\mne_data\\MNE-sample-data\\subjects\n",
      "0 files missing from bem.txt in C:\\Users\\olaf\\mne_data\\MNE-sample-data\\subjects\\fsaverage\n"
     ]
    },
    {
     "data": {
      "text/plain": [
       "WindowsPath('C:/Users/olaf/mne_data/MNE-sample-data/subjects/fsaverage')"
      ]
     },
     "execution_count": 1,
     "metadata": {},
     "output_type": "execute_result"
    }
   ],
   "source": [
    "import mne\n",
    "from mne.datasets import sample\n",
    "# the following will download sample dataset if not already present\n",
    "# for specific download location specify 'path'\n",
    "data_path = sample.data_path(update_path=True, force_update=False)\n",
    "\n",
    "# download Freesurfer average brain, fsaverage\n",
    "subjects_dir = data_path / \"subjects\"\n",
    "mne.datasets.fetch_fsaverage(subjects_dir=subjects_dir)"
   ]
  },
  {
   "cell_type": "code",
   "execution_count": null,
   "id": "b0a18f49-46fc-4e70-9b4f-4afa54541d67",
   "metadata": {},
   "outputs": [],
   "source": []
  }
 ],
 "metadata": {
  "kernelspec": {
   "display_name": "Python 3 (ipykernel)",
   "language": "python",
   "name": "python3"
  },
  "language_info": {
   "codemirror_mode": {
    "name": "ipython",
    "version": 3
   },
   "file_extension": ".py",
   "mimetype": "text/x-python",
   "name": "python",
   "nbconvert_exporter": "python",
   "pygments_lexer": "ipython3",
   "version": "3.12.7"
  }
 },
 "nbformat": 4,
 "nbformat_minor": 5
}
